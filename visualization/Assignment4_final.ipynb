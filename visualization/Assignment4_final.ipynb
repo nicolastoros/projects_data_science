{
 "cells": [
  {
   "cell_type": "markdown",
   "metadata": {
    "pycharm": {
     "name": "#%% md\n"
    }
   },
   "source": [
    "# Assignment 4\n",
    "\n",
    "Before working on this assignment please read these instructions fully. In the submission area, you will notice that you can click the link to **Preview the Grading** for each step of the assignment. This is the criteria that will be used for peer grading. Please familiarize yourself with the criteria before beginning the assignment.\n",
    "\n",
    "This assignment requires that you to find **at least** two datasets on the web which are related, and that you visualize these datasets to answer a question with the broad topic of **economic activity or measures** (see below) for the region of **Ann Arbor, Michigan, United States**, or **United States** more broadly.\n",
    "\n",
    "You can merge these datasets with data from different regions if you like! For instance, you might want to compare **Ann Arbor, Michigan, United States** to Ann Arbor, USA. In that case at least one source file must be about **Ann Arbor, Michigan, United States**.\n",
    "\n",
    "You are welcome to choose datasets at your discretion, but keep in mind **they will be shared with your peers**, so choose appropriate datasets. Sensitive, confidential, illicit, and proprietary materials are not good choices for datasets for this assignment. You are welcome to upload datasets of your own as well, and link to them using a third party repository such as github, bitbucket, pastebin, etc. Please be aware of the Coursera terms of service with respect to intellectual property.\n",
    "\n",
    "Also, you are welcome to preserve data in its original language, but for the purposes of grading you should provide english translations. You are welcome to provide multiple visuals in different languages if you would like!\n",
    "\n",
    "As this assignment is for the whole course, you must incorporate principles discussed in the first week, such as having as high data-ink ratio (Tufte) and aligning with Cairo’s principles of truth, beauty, function, and insight.\n",
    "\n",
    "Here are the assignment instructions:\n",
    "\n",
    " * State the region and the domain category that your data sets are about (e.g., **Ann Arbor, Michigan, United States** and **economic activity or measures**).\n",
    " * You must state a question about the domain category and region that you identified as being interesting.\n",
    " * You must provide at least two links to available datasets. These could be links to files such as CSV or Excel files, or links to websites which might have data in tabular form, such as Wikipedia pages.\n",
    " * You must upload an image which addresses the research question you stated. In addition to addressing the question, this visual should follow Cairo's principles of truthfulness, functionality, beauty, and insightfulness.\n",
    " * You must contribute a short (1-2 paragraph) written justification of how your visualization addresses your stated research question.\n",
    "\n",
    "What do we mean by **economic activity or measures**?  For this category you might look at the inputs or outputs to the given economy, or major changes in the economy compared to other regions.\n",
    "\n",
    "## Tips\n",
    "* Wikipedia is an excellent source of data, and I strongly encourage you to explore it for new data sources.\n",
    "* Many governments run open data initiatives at the city, region, and country levels, and these are wonderful resources for localized data sources.\n",
    "* Several international agencies, such as the [United Nations](http://data.un.org/), the [World Bank](http://data.worldbank.org/), the [Global Open Data Index](http://index.okfn.org/place/) are other great places to look for data.\n",
    "* This assignment requires you to convert and clean datafiles. Check out the discussion forums for tips on how to do this from various sources, and share your successes with your fellow students!\n",
    "\n",
    "## Example\n",
    "Looking for an example? Here's what our course assistant put together for the **Ann Arbor, MI, USA** area using **sports and athletics** as the topic. [Example Solution File](./readonly/Assignment4_example.pdf)"
   ]
  },
  {
   "cell_type": "code",
   "execution_count": 24,
   "metadata": {
    "pycharm": {
     "name": "#%%\n"
    }
   },
   "outputs": [],
   "source": [
    "import pandas as pd\n",
    "import matplotlib.pyplot as plt\n",
    "import datetime"
   ]
  },
  {
   "cell_type": "code",
   "execution_count": 13,
   "metadata": {
    "pycharm": {
     "name": "#%%\n"
    }
   },
   "outputs": [],
   "source": [
    "#Lectura excel\n",
    "tasa_desocupacion = pd.read_excel('Cuadro_14032022132448.xlsx',skiprows=[0,1])\n",
    "desocupacion_apertura = pd.read_excel('Cuadro_14032022132555.xlsx',skiprows=[0,1])\n",
    "fuerza_trabajo = pd.read_excel('Cuadro_14032022132514.xlsx',skiprows=[0,1])\n",
    "vacantes_trabajo = pd.read_excel('Cuadro_14032022132623.xlsx',skiprows=[0,1])\n",
    "\n",
    "\n"
   ]
  },
  {
   "cell_type": "code",
   "execution_count": 15,
   "metadata": {
    "pycharm": {
     "name": "#%%\n"
    }
   },
   "outputs": [
    {
     "data": {
      "text/html": [
       "<div>\n",
       "<style scoped>\n",
       "    .dataframe tbody tr th:only-of-type {\n",
       "        vertical-align: middle;\n",
       "    }\n",
       "\n",
       "    .dataframe tbody tr th {\n",
       "        vertical-align: top;\n",
       "    }\n",
       "\n",
       "    .dataframe thead th {\n",
       "        text-align: right;\n",
       "    }\n",
       "</style>\n",
       "<table border=\"1\" class=\"dataframe\">\n",
       "  <thead>\n",
       "    <tr style=\"text-align: right;\">\n",
       "      <th></th>\n",
       "      <th>Periodo</th>\n",
       "      <th>1.Región Metropolitana</th>\n",
       "    </tr>\n",
       "  </thead>\n",
       "  <tbody>\n",
       "    <tr>\n",
       "      <th>0</th>\n",
       "      <td>2010-03-01</td>\n",
       "      <td>9.511736</td>\n",
       "    </tr>\n",
       "    <tr>\n",
       "      <th>1</th>\n",
       "      <td>2010-04-01</td>\n",
       "      <td>9.057281</td>\n",
       "    </tr>\n",
       "    <tr>\n",
       "      <th>2</th>\n",
       "      <td>2010-05-01</td>\n",
       "      <td>9.133583</td>\n",
       "    </tr>\n",
       "    <tr>\n",
       "      <th>3</th>\n",
       "      <td>2010-06-01</td>\n",
       "      <td>8.372304</td>\n",
       "    </tr>\n",
       "    <tr>\n",
       "      <th>4</th>\n",
       "      <td>2010-07-01</td>\n",
       "      <td>7.952183</td>\n",
       "    </tr>\n",
       "  </tbody>\n",
       "</table>\n",
       "</div>"
      ],
      "text/plain": [
       "     Periodo  1.Región Metropolitana\n",
       "0 2010-03-01                9.511736\n",
       "1 2010-04-01                9.057281\n",
       "2 2010-05-01                9.133583\n",
       "3 2010-06-01                8.372304\n",
       "4 2010-07-01                7.952183"
      ]
     },
     "execution_count": 15,
     "metadata": {},
     "output_type": "execute_result"
    }
   ],
   "source": [
    "#Job vacancies\n",
    "tasa_desocupacion.head()"
   ]
  },
  {
   "cell_type": "code",
   "execution_count": 16,
   "metadata": {
    "pycharm": {
     "name": "#%%\n"
    }
   },
   "outputs": [
    {
     "data": {
      "text/html": [
       "<div>\n",
       "<style scoped>\n",
       "    .dataframe tbody tr th:only-of-type {\n",
       "        vertical-align: middle;\n",
       "    }\n",
       "\n",
       "    .dataframe tbody tr th {\n",
       "        vertical-align: top;\n",
       "    }\n",
       "\n",
       "    .dataframe thead th {\n",
       "        text-align: right;\n",
       "    }\n",
       "</style>\n",
       "<table border=\"1\" class=\"dataframe\">\n",
       "  <thead>\n",
       "    <tr style=\"text-align: right;\">\n",
       "      <th></th>\n",
       "      <th>Periodo</th>\n",
       "      <th>1.Fuerza de Trabajo</th>\n",
       "      <th>2.Ocupados</th>\n",
       "      <th>3.Desocupados</th>\n",
       "    </tr>\n",
       "  </thead>\n",
       "  <tbody>\n",
       "    <tr>\n",
       "      <th>0</th>\n",
       "      <td>2010-03-01</td>\n",
       "      <td>3330.163126</td>\n",
       "      <td>3013.406788</td>\n",
       "      <td>316.756339</td>\n",
       "    </tr>\n",
       "    <tr>\n",
       "      <th>1</th>\n",
       "      <td>2010-04-01</td>\n",
       "      <td>3377.346481</td>\n",
       "      <td>3071.450704</td>\n",
       "      <td>305.895776</td>\n",
       "    </tr>\n",
       "    <tr>\n",
       "      <th>2</th>\n",
       "      <td>2010-05-01</td>\n",
       "      <td>3393.357504</td>\n",
       "      <td>3083.422375</td>\n",
       "      <td>309.935129</td>\n",
       "    </tr>\n",
       "    <tr>\n",
       "      <th>3</th>\n",
       "      <td>2010-06-01</td>\n",
       "      <td>3370.269020</td>\n",
       "      <td>3088.099847</td>\n",
       "      <td>282.169172</td>\n",
       "    </tr>\n",
       "    <tr>\n",
       "      <th>4</th>\n",
       "      <td>2010-07-01</td>\n",
       "      <td>3402.579032</td>\n",
       "      <td>3131.999722</td>\n",
       "      <td>270.579311</td>\n",
       "    </tr>\n",
       "  </tbody>\n",
       "</table>\n",
       "</div>"
      ],
      "text/plain": [
       "     Periodo  1.Fuerza de Trabajo   2.Ocupados  3.Desocupados\n",
       "0 2010-03-01          3330.163126  3013.406788     316.756339\n",
       "1 2010-04-01          3377.346481  3071.450704     305.895776\n",
       "2 2010-05-01          3393.357504  3083.422375     309.935129\n",
       "3 2010-06-01          3370.269020  3088.099847     282.169172\n",
       "4 2010-07-01          3402.579032  3131.999722     270.579311"
      ]
     },
     "execution_count": 16,
     "metadata": {},
     "output_type": "execute_result"
    }
   ],
   "source": [
    "desocupacion_apertura.head()"
   ]
  },
  {
   "cell_type": "code",
   "execution_count": 37,
   "metadata": {
    "pycharm": {
     "name": "#%%\n"
    }
   },
   "outputs": [
    {
     "data": {
      "text/html": [
       "<div>\n",
       "<style scoped>\n",
       "    .dataframe tbody tr th:only-of-type {\n",
       "        vertical-align: middle;\n",
       "    }\n",
       "\n",
       "    .dataframe tbody tr th {\n",
       "        vertical-align: top;\n",
       "    }\n",
       "\n",
       "    .dataframe thead th {\n",
       "        text-align: right;\n",
       "    }\n",
       "</style>\n",
       "<table border=\"1\" class=\"dataframe\">\n",
       "  <thead>\n",
       "    <tr style=\"text-align: right;\">\n",
       "      <th></th>\n",
       "      <th>Periodo</th>\n",
       "      <th>1.Antofagasta</th>\n",
       "      <th>2.Valparaíso</th>\n",
       "      <th>3.Concepción</th>\n",
       "      <th>4.Temuco</th>\n",
       "      <th>5.Santiago</th>\n",
       "      <th>6.Total</th>\n",
       "      <th>7.Total ponderado serie original</th>\n",
       "    </tr>\n",
       "  </thead>\n",
       "  <tbody>\n",
       "    <tr>\n",
       "      <th>0</th>\n",
       "      <td>2010-01-01</td>\n",
       "      <td>162.5</td>\n",
       "      <td>124.7</td>\n",
       "      <td>75.6</td>\n",
       "      <td>113.3</td>\n",
       "      <td>72.7</td>\n",
       "      <td>82.1</td>\n",
       "      <td>97.3</td>\n",
       "    </tr>\n",
       "    <tr>\n",
       "      <th>1</th>\n",
       "      <td>2010-02-01</td>\n",
       "      <td>122.6</td>\n",
       "      <td>83.1</td>\n",
       "      <td>117.4</td>\n",
       "      <td>97.1</td>\n",
       "      <td>63.8</td>\n",
       "      <td>71.8</td>\n",
       "      <td>84.9</td>\n",
       "    </tr>\n",
       "    <tr>\n",
       "      <th>2</th>\n",
       "      <td>2010-03-01</td>\n",
       "      <td>162.8</td>\n",
       "      <td>97.0</td>\n",
       "      <td>69.1</td>\n",
       "      <td>83.8</td>\n",
       "      <td>72.8</td>\n",
       "      <td>78.1</td>\n",
       "      <td>84.2</td>\n",
       "    </tr>\n",
       "    <tr>\n",
       "      <th>3</th>\n",
       "      <td>2010-04-01</td>\n",
       "      <td>118.5</td>\n",
       "      <td>104.6</td>\n",
       "      <td>80.3</td>\n",
       "      <td>69.6</td>\n",
       "      <td>66.7</td>\n",
       "      <td>73.0</td>\n",
       "      <td>95.4</td>\n",
       "    </tr>\n",
       "    <tr>\n",
       "      <th>4</th>\n",
       "      <td>2010-05-01</td>\n",
       "      <td>159.8</td>\n",
       "      <td>107.9</td>\n",
       "      <td>102.9</td>\n",
       "      <td>81.8</td>\n",
       "      <td>77.4</td>\n",
       "      <td>84.7</td>\n",
       "      <td>107.2</td>\n",
       "    </tr>\n",
       "  </tbody>\n",
       "</table>\n",
       "</div>"
      ],
      "text/plain": [
       "     Periodo  1.Antofagasta   2.Valparaíso   3.Concepción   4.Temuco   \\\n",
       "0 2010-01-01           162.5          124.7           75.6      113.3   \n",
       "1 2010-02-01           122.6           83.1          117.4       97.1   \n",
       "2 2010-03-01           162.8           97.0           69.1       83.8   \n",
       "3 2010-04-01           118.5          104.6           80.3       69.6   \n",
       "4 2010-05-01           159.8          107.9          102.9       81.8   \n",
       "\n",
       "   5.Santiago   6.Total   7.Total ponderado serie original  \n",
       "0         72.7      82.1                              97.3  \n",
       "1         63.8      71.8                              84.9  \n",
       "2         72.8      78.1                              84.2  \n",
       "3         66.7      73.0                              95.4  \n",
       "4         77.4      84.7                             107.2  "
      ]
     },
     "execution_count": 37,
     "metadata": {},
     "output_type": "execute_result"
    }
   ],
   "source": [
    "vacantes_trabajo.head()"
   ]
  },
  {
   "cell_type": "code",
   "execution_count": 18,
   "metadata": {
    "pycharm": {
     "name": "#%%\n"
    }
   },
   "outputs": [
    {
     "data": {
      "text/html": [
       "<div>\n",
       "<style scoped>\n",
       "    .dataframe tbody tr th:only-of-type {\n",
       "        vertical-align: middle;\n",
       "    }\n",
       "\n",
       "    .dataframe tbody tr th {\n",
       "        vertical-align: top;\n",
       "    }\n",
       "\n",
       "    .dataframe thead th {\n",
       "        text-align: right;\n",
       "    }\n",
       "</style>\n",
       "<table border=\"1\" class=\"dataframe\">\n",
       "  <thead>\n",
       "    <tr style=\"text-align: right;\">\n",
       "      <th></th>\n",
       "      <th>Periodo</th>\n",
       "      <th>1.Población de 15 años y más</th>\n",
       "      <th>2.Fuerza de trabajo  Total</th>\n",
       "      <th>3.Ocupados</th>\n",
       "      <th>4.Desocupados</th>\n",
       "      <th>5.Cesantes</th>\n",
       "      <th>6.Buscan trabajo por primera vez</th>\n",
       "      <th>7.Inactivos</th>\n",
       "    </tr>\n",
       "  </thead>\n",
       "  <tbody>\n",
       "    <tr>\n",
       "      <th>0</th>\n",
       "      <td>2010-03-01</td>\n",
       "      <td>13218.219001</td>\n",
       "      <td>7883.686477</td>\n",
       "      <td>7156.211576</td>\n",
       "      <td>727.474901</td>\n",
       "      <td>634.320929</td>\n",
       "      <td>93.153971</td>\n",
       "      <td>5334.532524</td>\n",
       "    </tr>\n",
       "    <tr>\n",
       "      <th>1</th>\n",
       "      <td>2010-04-01</td>\n",
       "      <td>13235.828001</td>\n",
       "      <td>7896.517989</td>\n",
       "      <td>7198.777387</td>\n",
       "      <td>697.740601</td>\n",
       "      <td>614.162421</td>\n",
       "      <td>83.578181</td>\n",
       "      <td>5339.310012</td>\n",
       "    </tr>\n",
       "    <tr>\n",
       "      <th>2</th>\n",
       "      <td>2010-05-01</td>\n",
       "      <td>13252.845000</td>\n",
       "      <td>7899.816983</td>\n",
       "      <td>7181.902888</td>\n",
       "      <td>717.914095</td>\n",
       "      <td>640.566489</td>\n",
       "      <td>77.347607</td>\n",
       "      <td>5353.028017</td>\n",
       "    </tr>\n",
       "    <tr>\n",
       "      <th>3</th>\n",
       "      <td>2010-06-01</td>\n",
       "      <td>13270.236000</td>\n",
       "      <td>7905.916709</td>\n",
       "      <td>7221.575499</td>\n",
       "      <td>684.341210</td>\n",
       "      <td>607.898922</td>\n",
       "      <td>76.442288</td>\n",
       "      <td>5364.319291</td>\n",
       "    </tr>\n",
       "    <tr>\n",
       "      <th>4</th>\n",
       "      <td>2010-07-01</td>\n",
       "      <td>13287.404000</td>\n",
       "      <td>7931.587241</td>\n",
       "      <td>7256.515676</td>\n",
       "      <td>675.071565</td>\n",
       "      <td>605.989177</td>\n",
       "      <td>69.082388</td>\n",
       "      <td>5355.816759</td>\n",
       "    </tr>\n",
       "  </tbody>\n",
       "</table>\n",
       "</div>"
      ],
      "text/plain": [
       "     Periodo  1.Población de 15 años y más   2.Fuerza de trabajo  Total   \\\n",
       "0 2010-03-01                   13218.219001                  7883.686477   \n",
       "1 2010-04-01                   13235.828001                  7896.517989   \n",
       "2 2010-05-01                   13252.845000                  7899.816983   \n",
       "3 2010-06-01                   13270.236000                  7905.916709   \n",
       "4 2010-07-01                   13287.404000                  7931.587241   \n",
       "\n",
       "   3.Ocupados   4.Desocupados   5.Cesantes   \\\n",
       "0  7156.211576      727.474901   634.320929   \n",
       "1  7198.777387      697.740601   614.162421   \n",
       "2  7181.902888      717.914095   640.566489   \n",
       "3  7221.575499      684.341210   607.898922   \n",
       "4  7256.515676      675.071565   605.989177   \n",
       "\n",
       "   6.Buscan trabajo por primera vez   7.Inactivos  \n",
       "0                          93.153971  5334.532524  \n",
       "1                          83.578181  5339.310012  \n",
       "2                          77.347607  5353.028017  \n",
       "3                          76.442288  5364.319291  \n",
       "4                          69.082388  5355.816759  "
      ]
     },
     "execution_count": 18,
     "metadata": {},
     "output_type": "execute_result"
    }
   ],
   "source": [
    "fuerza_trabajo.head()"
   ]
  },
  {
   "cell_type": "code",
   "execution_count": 22,
   "metadata": {
    "pycharm": {
     "name": "#%%\n"
    }
   },
   "outputs": [
    {
     "data": {
      "text/plain": [
       "Periodo                   datetime64[ns]\n",
       "1.Región Metropolitana           float64\n",
       "dtype: object"
      ]
     },
     "execution_count": 22,
     "metadata": {},
     "output_type": "execute_result"
    }
   ],
   "source": [
    "tasa_desocupacion.dtypes"
   ]
  },
  {
   "cell_type": "code",
   "execution_count": 98,
   "metadata": {
    "pycharm": {
     "name": "#%%\n"
    }
   },
   "outputs": [],
   "source": [
    "df_des = tasa_desocupacion[(tasa_desocupacion['Periodo'] >= \"2019-06-01\") & (tasa_desocupacion['Periodo'] <= \"2020-06-01\")].reset_index()\n",
    "df_ap = desocupacion_apertura[(desocupacion_apertura['Periodo'] >= \"2019-06-01\") & (desocupacion_apertura['Periodo'] <= \"2020-06-01\")].reset_index()\n",
    "df_ft = fuerza_trabajo[(fuerza_trabajo['Periodo'] >= \"2019-06-01\") & (fuerza_trabajo['Periodo'] <= \"2020-06-01\")].reset_index()\n",
    "df_vt = vacantes_trabajo[(vacantes_trabajo['Periodo'] >= \"2019-06-01\") & (vacantes_trabajo['Periodo'] <= \"2020-06-01\")].reset_index()"
   ]
  },
  {
   "cell_type": "code",
   "execution_count": 99,
   "metadata": {
    "pycharm": {
     "name": "#%%\n"
    }
   },
   "outputs": [
    {
     "data": {
      "text/html": [
       "<div>\n",
       "<style scoped>\n",
       "    .dataframe tbody tr th:only-of-type {\n",
       "        vertical-align: middle;\n",
       "    }\n",
       "\n",
       "    .dataframe tbody tr th {\n",
       "        vertical-align: top;\n",
       "    }\n",
       "\n",
       "    .dataframe thead th {\n",
       "        text-align: right;\n",
       "    }\n",
       "</style>\n",
       "<table border=\"1\" class=\"dataframe\">\n",
       "  <thead>\n",
       "    <tr style=\"text-align: right;\">\n",
       "      <th></th>\n",
       "      <th>index</th>\n",
       "      <th>Periodo</th>\n",
       "      <th>1.Fuerza de Trabajo</th>\n",
       "      <th>2.Ocupados</th>\n",
       "      <th>3.Desocupados</th>\n",
       "    </tr>\n",
       "  </thead>\n",
       "  <tbody>\n",
       "    <tr>\n",
       "      <th>0</th>\n",
       "      <td>111</td>\n",
       "      <td>2019-06-01</td>\n",
       "      <td>4193.512867</td>\n",
       "      <td>3883.790679</td>\n",
       "      <td>309.722189</td>\n",
       "    </tr>\n",
       "    <tr>\n",
       "      <th>1</th>\n",
       "      <td>112</td>\n",
       "      <td>2019-07-01</td>\n",
       "      <td>4216.169742</td>\n",
       "      <td>3882.352721</td>\n",
       "      <td>333.817021</td>\n",
       "    </tr>\n",
       "    <tr>\n",
       "      <th>2</th>\n",
       "      <td>113</td>\n",
       "      <td>2019-08-01</td>\n",
       "      <td>4231.753863</td>\n",
       "      <td>3883.089740</td>\n",
       "      <td>348.664123</td>\n",
       "    </tr>\n",
       "    <tr>\n",
       "      <th>3</th>\n",
       "      <td>114</td>\n",
       "      <td>2019-09-01</td>\n",
       "      <td>4279.396661</td>\n",
       "      <td>3932.803412</td>\n",
       "      <td>346.593249</td>\n",
       "    </tr>\n",
       "    <tr>\n",
       "      <th>4</th>\n",
       "      <td>115</td>\n",
       "      <td>2019-10-01</td>\n",
       "      <td>4263.374169</td>\n",
       "      <td>3925.946151</td>\n",
       "      <td>337.428019</td>\n",
       "    </tr>\n",
       "  </tbody>\n",
       "</table>\n",
       "</div>"
      ],
      "text/plain": [
       "   index    Periodo  1.Fuerza de Trabajo   2.Ocupados  3.Desocupados\n",
       "0    111 2019-06-01          4193.512867  3883.790679     309.722189\n",
       "1    112 2019-07-01          4216.169742  3882.352721     333.817021\n",
       "2    113 2019-08-01          4231.753863  3883.089740     348.664123\n",
       "3    114 2019-09-01          4279.396661  3932.803412     346.593249\n",
       "4    115 2019-10-01          4263.374169  3925.946151     337.428019"
      ]
     },
     "execution_count": 99,
     "metadata": {},
     "output_type": "execute_result"
    }
   ],
   "source": [
    "df_ap.head()"
   ]
  },
  {
   "cell_type": "code",
   "execution_count": 102,
   "metadata": {
    "pycharm": {
     "name": "#%%\n"
    }
   },
   "outputs": [],
   "source": [
    "df_ap['ratio_ocupacion'] = df_ap['3.Desocupados']/df_ap['1.Fuerza de Trabajo']*100\n",
    "df_vt2 = df_vt[['Periodo','5.Santiago ']]\n",
    "df_ft['ratio_cesantia'] = df_ft['5.Cesantes ']/df_ft['4.Desocupados ']*100\n",
    "df_ft2 = df_ft[['Periodo','ratio_cesantia']]\n"
   ]
  },
  {
   "cell_type": "code",
   "execution_count": 103,
   "metadata": {
    "pycharm": {
     "name": "#%%\n"
    }
   },
   "outputs": [],
   "source": [
    "df1 = pd.merge(df_des,df_ap,on='Periodo',how='right')"
   ]
  },
  {
   "cell_type": "code",
   "execution_count": 104,
   "metadata": {
    "pycharm": {
     "name": "#%%\n"
    }
   },
   "outputs": [],
   "source": [
    "df2 = pd.merge(df1,df_vt2,on='Periodo',how='right')"
   ]
  },
  {
   "cell_type": "code",
   "execution_count": 105,
   "metadata": {
    "pycharm": {
     "name": "#%%\n"
    }
   },
   "outputs": [],
   "source": [
    "df3 = pd.merge(df2,df_ft2,on='Periodo',how='right')"
   ]
  },
  {
   "cell_type": "code",
   "execution_count": 106,
   "metadata": {
    "pycharm": {
     "name": "#%%\n"
    }
   },
   "outputs": [],
   "source": [
    "df4 = df3[['Periodo','ratio_ocupacion','ratio_cesantia']]"
   ]
  },
  {
   "cell_type": "code",
   "execution_count": 113,
   "metadata": {
    "pycharm": {
     "name": "#%%\n"
    }
   },
   "outputs": [
    {
     "data": {
      "text/plain": [
       "array([[87.2171393 ],\n",
       "       [86.16123618],\n",
       "       [87.28818975],\n",
       "       [87.74933495],\n",
       "       [88.74295991],\n",
       "       [87.04237529],\n",
       "       [86.07633455],\n",
       "       [86.6090156 ],\n",
       "       [86.82624197],\n",
       "       [87.71448977],\n",
       "       [90.19022986],\n",
       "       [93.45487567],\n",
       "       [94.19173029]])"
      ]
     },
     "execution_count": 113,
     "metadata": {},
     "output_type": "execute_result"
    }
   ],
   "source": []
  },
  {
   "cell_type": "code",
   "execution_count": 152,
   "metadata": {
    "pycharm": {
     "name": "#%%\n"
    }
   },
   "outputs": [
    {
     "data": {
      "image/png": "[encoded data removed]",
      "text/plain": [
       "<Figure size 756x468 with 2 Axes>"
      ]
     },
     "metadata": {
      "needs_background": "light"
     },
     "output_type": "display_data"
    }
   ],
   "source": [
    "import matplotlib.pyplot as plt\n",
    "import numpy as np\n",
    "\n",
    "plt.rcParams[\"figure.figsize\"] = [10.50, 6.50]\n",
    "plt.rcParams[\"figure.autolayout\"] = True\n",
    "\n",
    "x_axis = [\"0619\", \"0719\", \"0819\",\"0919\",\"1019\",\"1119\",\"1219\",\"0120\",\"0220\",\"0320\",\"0420\",\"0520\",\"0620\"]\n",
    "\n",
    "ocupacion = df4[['ratio_ocupacion']]\n",
    "cesantia = df4[['ratio_cesantia']]\n",
    "\n",
    "ax1 = plt.subplot()\n",
    "l1, = ax1.plot(x_axis, ocupacion, color='red', linewidth=3)\n",
    "ax2 = ax1.twinx()\n",
    "l2, = ax2.plot(x_axis, cesantia, color='green', linewidth=3)\n",
    "# add a label to the x axis\n",
    "# add a label to the y axis\n",
    "ax1.set_xlabel('Date (Month - Year)', fontsize=15)\n",
    "ax1.set_ylabel('(%) of Inactive rate', fontsize=15)\n",
    "ax2.set_ylabel('(%) of unemployment rate over inactive', fontsize=15)\n",
    "\n",
    "# add a title\n",
    "plt.title('Levels of employment and unemployment, Chile, Metropolitan Region (2nd Semester 2019 - 2nd Semester 2020)', fontsize=15)\n",
    "plt.legend([l1, l2], [\"Unemployed over total national labor force (%)\", \"Unemployed over total inactive workers in Metropolitan Region (%)\"],loc=0, frameon=False)\n",
    "\n",
    "\n",
    "plt.show()"
   ]
  }
 ],
 "metadata": {
  "kernelspec": {
   "display_name": "Python 3 (ipykernel)",
   "language": "python",
   "name": "python3"
  },
  "language_info": {
   "codemirror_mode": {
    "name": "ipython",
    "version": 3
   },
   "file_extension": ".py",
   "mimetype": "text/x-python",
   "name": "python",
   "nbconvert_exporter": "python",
   "pygments_lexer": "ipython3",
   "version": "3.9.7"
  }
 },
 "nbformat": 4,
 "nbformat_minor": 1
}